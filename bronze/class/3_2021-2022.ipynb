{
 "cells": [
  {
   "cell_type": "markdown",
   "metadata": {},
   "source": [
    "Created by Junyeong Ahn."
   ]
  },
  {
   "cell_type": "markdown",
   "metadata": {},
   "source": [
    "## Welcome to [USACO](https://usaco.org/) [Bronze] course!"
   ]
  },
  {
   "cell_type": "markdown",
   "metadata": {},
   "source": [
    "### Contest Schedule"
   ]
  },
  {
   "cell_type": "markdown",
   "metadata": {},
   "source": [
    "First contest - December\n",
    "\n",
    "Second contest - January\n",
    "\n",
    "Third contest - February\n",
    "\n",
    "US open - March"
   ]
  },
  {
   "cell_type": "markdown",
   "metadata": {},
   "source": [
    "### Class Schedule"
   ]
  },
  {
   "cell_type": "markdown",
   "metadata": {},
   "source": [
    "2025. 09: 2021-2022 (Feb for class, the rest for HW)\n",
    "2025. 10: 2022-2023 (Feb for class, the rest for HW)\n",
    "2025. 11: 2023-2024 (Feb for class, the rest for HW)\n",
    "2025. 12: 2024-2025 (Feb for class, the rest for HW)"
   ]
  },
  {
   "cell_type": "markdown",
   "metadata": {},
   "source": [
    "In each class,\n",
    "\n",
    "40 minutes: Feedback for your assignment\n",
    "- Not to exceed this expected time taken, please always be well-prepared with your assignment, including being ready for code review and (of course) doing your best.\n",
    "\n",
    "60 minutes: Solve 1 problem\n",
    "\n",
    "15 minutes: Wrap-up, dealing with the keys behind the soluiton \n",
    "\n",
    "<br><br>\n",
    "Assignment: 3 problems - Try to solve one problem in every two days"
   ]
  },
  {
   "cell_type": "markdown",
   "metadata": {},
   "source": [
    "## Problem"
   ]
  },
  {
   "cell_type": "markdown",
   "metadata": {},
   "source": [
    "USACO 2022 Feb. Bronze Problem 3. [Blocks](https://usaco.org/index.php?page=viewproblem2&cpid=1205)"
   ]
  },
  {
   "cell_type": "code",
   "execution_count": 2,
   "metadata": {},
   "outputs": [
    {
     "name": "stdout",
     "output_type": "stream",
     "text": [
      "STR\n",
      "str\n"
     ]
    }
   ],
   "source": [
    "# Solution\n",
    "\n",
    "\n",
    "# nontransitive: 둘 다 안댓어 -> 마지막으로 해보자\n",
    "\n",
    "# 준성: blocks 됏어 (근데 permuatations 쓰는거)\n",
    "# 윤성: 안됏어 = 해오자\n",
    "\n",
    "\n",
    "\n"
   ]
  },
  {
   "cell_type": "markdown",
   "metadata": {},
   "source": [
    "## Homework"
   ]
  },
  {
   "cell_type": "markdown",
   "metadata": {},
   "source": [
    "USACO 2021 Dec. Bronze Problem 3. [Walking Home](https://usaco.org/index.php?page=viewproblem2&cpid=1157)"
   ]
  },
  {
   "cell_type": "code",
   "execution_count": null,
   "metadata": {},
   "outputs": [],
   "source": [
    "# Solution\n"
   ]
  },
  {
   "cell_type": "markdown",
   "metadata": {},
   "source": [
    "USACO 2022 Jan. Bronze Problem 3. [Drought](https://usaco.org/index.php?page=viewproblem2&cpid=1181)"
   ]
  },
  {
   "cell_type": "code",
   "execution_count": null,
   "metadata": {},
   "outputs": [],
   "source": [
    "# Solution\n"
   ]
  },
  {
   "cell_type": "markdown",
   "metadata": {},
   "source": [
    "USACO 2022 US Open Bronze Problem 3. [Alchemy](https://usaco.org/index.php?page=viewproblem2&cpid=1229)"
   ]
  },
  {
   "cell_type": "code",
   "execution_count": null,
   "metadata": {},
   "outputs": [],
   "source": [
    "# Solution\n"
   ]
  }
 ],
 "metadata": {
  "kernelspec": {
   "display_name": "Python 3",
   "language": "python",
   "name": "python3"
  },
  "language_info": {
   "codemirror_mode": {
    "name": "ipython",
    "version": 3
   },
   "file_extension": ".py",
   "mimetype": "text/x-python",
   "name": "python",
   "nbconvert_exporter": "python",
   "pygments_lexer": "ipython3",
   "version": "3.12.2"
  }
 },
 "nbformat": 4,
 "nbformat_minor": 2
}
