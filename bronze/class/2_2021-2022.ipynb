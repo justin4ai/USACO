{
 "cells": [
  {
   "cell_type": "markdown",
   "metadata": {},
   "source": [
    "Created by Junyeong Ahn."
   ]
  },
  {
   "cell_type": "markdown",
   "metadata": {},
   "source": [
    "## Welcome to [USACO](https://usaco.org/) [Bronze] course!"
   ]
  },
  {
   "cell_type": "markdown",
   "metadata": {},
   "source": [
    "### Contest Schedule"
   ]
  },
  {
   "cell_type": "markdown",
   "metadata": {},
   "source": [
    "First contest - December\n",
    "\n",
    "Second contest - January\n",
    "\n",
    "Third contest - February\n",
    "\n",
    "US open - March"
   ]
  },
  {
   "cell_type": "markdown",
   "metadata": {},
   "source": [
    "### Class Schedule"
   ]
  },
  {
   "cell_type": "markdown",
   "metadata": {},
   "source": [
    "2025. 09: 2021-2022 (Feb for class, the rest for HW)\n",
    "2025. 10: 2022-2023 (Feb for class, the rest for HW)\n",
    "2025. 11: 2023-2024 (Feb for class, the rest for HW)\n",
    "2025. 12: 2024-2025 (Feb for class, the rest for HW)"
   ]
  },
  {
   "cell_type": "markdown",
   "metadata": {},
   "source": [
    "In each class,\n",
    "\n",
    "40 minutes: Feedback for your assignment\n",
    "- Not to exceed this expected time taken, please always be well-prepared with your assignment, including being ready for code review and (of course) doing your best.\n",
    "\n",
    "60 minutes: Solve 1 problem\n",
    "\n",
    "15 minutes: Wrap-up, dealing with the keys behind the soluiton \n",
    "\n",
    "<br><br>\n",
    "Assignment: 3 problems - Try to solve one problem in every two days"
   ]
  },
  {
   "cell_type": "markdown",
   "metadata": {},
   "source": [
    "## Problem"
   ]
  },
  {
   "cell_type": "markdown",
   "metadata": {},
   "source": [
    "USACO 2022 Feb. Bronze Problem 2. [Photoshoot 2](https://usaco.org/index.php?page=viewproblem2&cpid=1204)"
   ]
  },
  {
   "cell_type": "code",
   "execution_count": null,
   "metadata": {},
   "outputs": [],
   "source": [
    "# Solution\n"
   ]
  },
  {
   "cell_type": "markdown",
   "metadata": {},
   "source": [
    "## Homework"
   ]
  },
  {
   "cell_type": "markdown",
   "metadata": {},
   "source": [
    "USACO 2021 Dec. Bronze Problem 2. [Air Cownditioning](https://usaco.org/index.php?page=viewproblem2&cpid=1156)"
   ]
  },
  {
   "attachments": {
    "image.png": {
     "image/png": "[encoded data removed]"
    }
   },
   "cell_type": "markdown",
   "metadata": {},
   "source": [
    "![image.png](attachment:image.png)"
   ]
  },
  {
   "cell_type": "code",
   "execution_count": 6,
   "metadata": {},
   "outputs": [
    {
     "name": "stdout",
     "output_type": "stream",
     "text": [
      "[0, 0, 3, 1, 1, 3, 0]\n",
      "5\n"
     ]
    }
   ],
   "source": [
    "# Solution\n",
    "\n",
    "\n",
    "num = 5\n",
    "A = [1, 5, 3, 3, 4]\n",
    "B = [1, 2, 2, 2, 1]\n",
    "\n",
    "d = [ ( A[i] - B[i] ) for i in range(num) ]\n",
    "\n",
    "d.insert(0, 0)\n",
    "d.append(0)\n",
    "\n",
    "print(d)\n",
    "\n",
    "sum_diff = 0\n",
    "for i in range(len(d) - 1):\n",
    "    ele = (d[i + 1] - d[i])\n",
    "    sum_diff += abs(ele)\n",
    "\n",
    "print(sum_diff // 2)"
   ]
  },
  {
   "cell_type": "markdown",
   "metadata": {},
   "source": [
    "USACO 2022 Jan. Bronze Problem 2. [Non-Transitive Dice](https://usaco.org/index.php?page=viewproblem2&cpid=1180)"
   ]
  },
  {
   "cell_type": "code",
   "execution_count": null,
   "metadata": {},
   "outputs": [],
   "source": [
    "# Solution\n"
   ]
  },
  {
   "cell_type": "markdown",
   "metadata": {},
   "source": [
    "USACO 2022 US Open Bronze Problem 2. [Counting Liars](https://usaco.org/index.php?page=viewproblem2&cpid=1228)"
   ]
  },
  {
   "cell_type": "code",
   "execution_count": null,
   "metadata": {},
   "outputs": [],
   "source": [
    "# Solution\n",
    "\n",
    "#2\n",
    "#G 3\n",
    "#L 2\n",
    "\n",
    "n = 2\n",
    "groups = [(\"G\", 3), (\"L\", 2)]\n",
    "candidate_positions = [3, 2]\n",
    "\n",
    "\n",
    "liars_list = []\n",
    "\n",
    "for cand in candidate_positions:\n",
    "    liars = 0\n",
    "\n",
    "    for sign, position in groups:\n",
    "        if sign == \"G\":\n",
    "\n",
    "            if cand < position:\n",
    "                liars += 1\n",
    "\n",
    "        else:\n",
    "\n",
    "            if cand > position:\n",
    "                liars += 1\n",
    "\n",
    "    liars_list.append(liars)\n",
    "    \n",
    "\n",
    "\n",
    "\n",
    "\n",
    "\n",
    "\n",
    "\n",
    "[]"
   ]
  },
  {
   "cell_type": "markdown",
   "metadata": {},
   "source": [
    "# lonely photo reimplementation, photoshoot2, air conditioning, counting liars"
   ]
  }
 ],
 "metadata": {
  "kernelspec": {
   "display_name": "Python 3",
   "language": "python",
   "name": "python3"
  },
  "language_info": {
   "codemirror_mode": {
    "name": "ipython",
    "version": 3
   },
   "file_extension": ".py",
   "mimetype": "text/x-python",
   "name": "python",
   "nbconvert_exporter": "python",
   "pygments_lexer": "ipython3",
   "version": "3.12.2"
  }
 },
 "nbformat": 4,
 "nbformat_minor": 2
}
